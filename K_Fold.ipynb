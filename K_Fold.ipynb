{
 "cells": [
  {
   "cell_type": "code",
   "execution_count": 1,
   "metadata": {},
   "outputs": [],
   "source": [
    "from sklearn.neighbors import KNeighborsClassifier\n",
    "from sklearn.model_selection import KFold,train_test_split\n",
    "from sklearn.metrics import accuracy_score\n",
    "import pandas as pd\n",
    "import numpy as np"
   ]
  },
  {
   "cell_type": "code",
   "execution_count": 2,
   "metadata": {},
   "outputs": [
    {
     "name": "stdout",
     "output_type": "stream",
     "text": [
      "   Pregnancies  Glucose  BloodPressure  SkinThickness  Insulin   BMI  \\\n",
      "0            6      148             72             35        0  33.6   \n",
      "1            1       85             66             29        0  26.6   \n",
      "2            8      183             64              0        0  23.3   \n",
      "3            1       89             66             23       94  28.1   \n",
      "4            0      137             40             35      168  43.1   \n",
      "\n",
      "   DiabetesPedigreeFunction  Age  Outcome  \n",
      "0                     0.627   50        1  \n",
      "1                     0.351   31        0  \n",
      "2                     0.672   32        1  \n",
      "3                     0.167   21        0  \n",
      "4                     2.288   33        1  \n"
     ]
    }
   ],
   "source": [
    "data=pd.read_excel(r'C:\\Users\\LENOVO\\Desktop\\Python\\github\\diabetes\\dataset\\archive\\diabetes.xlsx')\n",
    "print(data.head(5))"
   ]
  },
  {
   "cell_type": "code",
   "execution_count": 3,
   "metadata": {},
   "outputs": [],
   "source": [
    "data=data.dropna();#if there are NaN values, the row will have been removed.\n",
    "X=data.iloc[:,0:8].values\n",
    "y=data.iloc[:,-1].values"
   ]
  },
  {
   "cell_type": "code",
   "execution_count": 4,
   "metadata": {},
   "outputs": [],
   "source": [
    "x_train,x_test,y_train,y_test=train_test_split(X,y,test_size=0.3,random_state=0)"
   ]
  },
  {
   "cell_type": "code",
   "execution_count": 5,
   "metadata": {},
   "outputs": [],
   "source": [
    "from sklearn.preprocessing import StandardScaler\n",
    "scaler=StandardScaler()\n",
    "X_train=scaler.fit_transform(x_train)\n",
    "X_test=scaler.fit_transform(x_test)"
   ]
  },
  {
   "cell_type": "code",
   "execution_count": 6,
   "metadata": {},
   "outputs": [
    {
     "name": "stdout",
     "output_type": "stream",
     "text": [
      "0.7056277056277056\n",
      "0.7359307359307359\n",
      "0.7619047619047619\n",
      "0.7402597402597403\n",
      "0.7619047619047619\n",
      "0.7792207792207793\n",
      "0.7619047619047619\n",
      "0.7575757575757576\n",
      "0.7445887445887446\n",
      "0.7532467532467533\n",
      "0.7705627705627706\n",
      "0.7662337662337663\n",
      "0.7619047619047619\n",
      "0.7705627705627706\n",
      "0.7575757575757576\n",
      "0.7619047619047619\n",
      "0.7705627705627706\n",
      "0.7532467532467533\n",
      "0.7662337662337663\n",
      "0.7662337662337663\n",
      "0.7705627705627706\n",
      "0.7705627705627706\n",
      "0.7532467532467533\n",
      "0.7575757575757576\n",
      "0.7575757575757576\n",
      "0.7575757575757576\n",
      "0.7619047619047619\n",
      "0.7575757575757576\n",
      "0.7619047619047619\n",
      "0.7835497835497836\n",
      "Maximum neighbors value: 0.7835497835497836\n"
     ]
    }
   ],
   "source": [
    "#finding the optimum k value for KNN\n",
    "maximum_neighbors_value=0\n",
    "neighbors_List=[]\n",
    "for i in range(1,31):\n",
    "    knn=KNeighborsClassifier(n_neighbors=i)\n",
    "    knn.fit(X_train,y_train)\n",
    "    y_pred=knn.predict(X_test)\n",
    "    acc_score=accuracy_score(y_test, y_pred).tolist()\n",
    "    print(acc_score)\n",
    "    neighbors_List.append(acc_score)\n",
    "    if acc_score>maximum_neighbors_value:\n",
    "        maximum_neighbors_value=acc_score\n",
    "print(\"Maximum neighbors value:\",maximum_neighbors_value)"
   ]
  },
  {
   "cell_type": "code",
   "execution_count": 7,
   "metadata": {},
   "outputs": [
    {
     "data": {
      "text/plain": [
       "[<matplotlib.lines.Line2D at 0x1d1afacf880>]"
      ]
     },
     "execution_count": 7,
     "metadata": {},
     "output_type": "execute_result"
    },
    {
     "data": {
      "image/png": "[encoded data removed]",
      "text/plain": [
       "<Figure size 432x288 with 1 Axes>"
      ]
     },
     "metadata": {
      "needs_background": "light"
     },
     "output_type": "display_data"
    }
   ],
   "source": [
    "import matplotlib.pyplot as plt\n",
    "plt.plot(range(1,31),neighbors_List)"
   ]
  },
  {
   "cell_type": "code",
   "execution_count": 8,
   "metadata": {},
   "outputs": [
    {
     "name": "stdout",
     "output_type": "stream",
     "text": [
      "Optimum k: 29\n"
     ]
    }
   ],
   "source": [
    "for i in range(0,len(neighbors_List)):\n",
    "    if maximum_neighbors_value==neighbors_List[i]:\n",
    "        optimum_k=i\n",
    "print(\"Optimum k:\",optimum_k)"
   ]
  },
  {
   "cell_type": "code",
   "execution_count": 9,
   "metadata": {},
   "outputs": [
    {
     "name": "stdout",
     "output_type": "stream",
     "text": [
      "0.7012987012987013\n",
      "0.7662337662337663\n",
      "0.6753246753246753\n",
      "0.5974025974025974\n",
      "0.7272727272727273\n",
      "0.7532467532467533\n",
      "0.7922077922077922\n",
      "0.8181818181818182\n",
      "0.7894736842105263\n",
      "0.7368421052631579\n",
      "Maximum K Fold Value: 0.8181818181818182\n"
     ]
    }
   ],
   "source": [
    "#Original dataset is splitted into 10 equal subsamples.\n",
    "kf = KFold(n_splits=10,random_state=None,shuffle=False)\n",
    "kf_scores=[]\n",
    "maximum_kf=0\n",
    "for train_index, test_index in kf.split(X):\n",
    "    X_train, X_test = X[train_index], X[test_index]\n",
    "    y_train, y_test = y[train_index], y[test_index]\n",
    "    knn=KNeighborsClassifier(n_neighbors=optimum_k+1,metric=\"minkowski\",p=2)\n",
    "    knn.fit(X_train,y_train)\n",
    "    y_pred=knn.predict(X_test)\n",
    "    acc_score=accuracy_score(y_test, y_pred).tolist()\n",
    "    kf_scores.append(acc_score)\n",
    "    print(acc_score)\n",
    "    if acc_score>maximum_kf:\n",
    "        maximum_kf=acc_score\n",
    "print(\"Maximum K Fold Value:\",maximum_kf)"
   ]
  },
  {
   "cell_type": "code",
   "execution_count": 10,
   "metadata": {},
   "outputs": [
    {
     "name": "stdout",
     "output_type": "stream",
     "text": [
      "Optimum K Fold: 7\n"
     ]
    }
   ],
   "source": [
    "#The most appropriate subsample is selected. \n",
    "for i in range(0,len(kf_scores)):\n",
    "    if maximum_kf==kf_scores[i]:\n",
    "        optimum_kf=i       \n",
    "print(\"Optimum K Fold:\",optimum_kf)"
   ]
  },
  {
   "cell_type": "code",
   "execution_count": 11,
   "metadata": {},
   "outputs": [
    {
     "name": "stdout",
     "output_type": "stream",
     "text": [
      "The best accuracy value: 0.8181818181818182\n"
     ]
    }
   ],
   "source": [
    "#Retraining using the most appropriate subsample.\n",
    "t=0\n",
    "for train_index, test_index in kf.split(X):\n",
    "    if t==optimum_kf:\n",
    "        X_train, X_test = X[train_index], X[test_index]\n",
    "        y_train, y_test = y[train_index], y[test_index]\n",
    "        knn=KNeighborsClassifier(n_neighbors=optimum_k+1,metric=\"minkowski\",p=2)\n",
    "        knn.fit(X_train,y_train)\n",
    "        y_pred=knn.predict(X_test)\n",
    "        acc_score=accuracy_score(y_test, y_pred)\n",
    "        print(\"The best accuracy value:\",acc_score)\n",
    "        break\n",
    "    t=t+1"
   ]
  },
  {
   "cell_type": "code",
   "execution_count": null,
   "metadata": {},
   "outputs": [],
   "source": []
  }
 ],
 "metadata": {
  "kernelspec": {
   "display_name": "Python 3",
   "language": "python",
   "name": "python3"
  },
  "language_info": {
   "codemirror_mode": {
    "name": "ipython",
    "version": 3
   },
   "file_extension": ".py",
   "mimetype": "text/x-python",
   "name": "python",
   "nbconvert_exporter": "python",
   "pygments_lexer": "ipython3",
   "version": "3.8.5"
  }
 },
 "nbformat": 4,
 "nbformat_minor": 4
}
