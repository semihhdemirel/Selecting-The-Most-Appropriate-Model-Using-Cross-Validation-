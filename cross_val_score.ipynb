{
 "cells": [
  {
   "cell_type": "code",
   "execution_count": 1,
   "metadata": {},
   "outputs": [],
   "source": [
    "from sklearn.model_selection import cross_val_score,train_test_split\n",
    "from sklearn.metrics import accuracy_score\n",
    "from sklearn.neighbors import KNeighborsClassifier\n",
    "from sklearn.svm import SVC\n",
    "from sklearn.linear_model import LogisticRegression\n",
    "import numpy as np\n",
    "import pandas as pd"
   ]
  },
  {
   "cell_type": "code",
   "execution_count": 2,
   "metadata": {},
   "outputs": [
    {
     "name": "stdout",
     "output_type": "stream",
     "text": [
      "   Pregnancies  Glucose  BloodPressure  SkinThickness  Insulin   BMI  \\\n",
      "0            6      148             72             35        0  33.6   \n",
      "1            1       85             66             29        0  26.6   \n",
      "2            8      183             64              0        0  23.3   \n",
      "3            1       89             66             23       94  28.1   \n",
      "4            0      137             40             35      168  43.1   \n",
      "\n",
      "   DiabetesPedigreeFunction  Age  Outcome  \n",
      "0                     0.627   50        1  \n",
      "1                     0.351   31        0  \n",
      "2                     0.672   32        1  \n",
      "3                     0.167   21        0  \n",
      "4                     2.288   33        1  \n"
     ]
    }
   ],
   "source": [
    "data=pd.read_excel(r'C:\\Users\\LENOVO\\Desktop\\Python\\github\\diabetes\\dataset\\archive\\diabetes.xlsx')\n",
    "print(data.head(5))"
   ]
  },
  {
   "cell_type": "code",
   "execution_count": 3,
   "metadata": {},
   "outputs": [],
   "source": [
    "data=data.dropna();#if there are NaN values, the row will have been removed.\n",
    "X=data.iloc[:,0:8].values\n",
    "y=data.iloc[:,-1].values"
   ]
  },
  {
   "cell_type": "code",
   "execution_count": 4,
   "metadata": {},
   "outputs": [],
   "source": [
    "x_train,x_test,y_train,y_test=train_test_split(X,y,test_size=0.3,random_state=0)"
   ]
  },
  {
   "cell_type": "code",
   "execution_count": 5,
   "metadata": {},
   "outputs": [],
   "source": [
    "from sklearn.preprocessing import StandardScaler\n",
    "scaler=StandardScaler()\n",
    "X_train=scaler.fit_transform(x_train)\n",
    "X_test=scaler.fit_transform(x_test)"
   ]
  },
  {
   "cell_type": "code",
   "execution_count": 6,
   "metadata": {},
   "outputs": [
    {
     "name": "stdout",
     "output_type": "stream",
     "text": [
      "Optimum k: 29\n"
     ]
    }
   ],
   "source": [
    "#finding the optimum k value for KNN\n",
    "maximum_neighbors_value=0\n",
    "neighbors_List=[]\n",
    "for i in range(1,31):\n",
    "    knn=KNeighborsClassifier(n_neighbors=i)\n",
    "    knn.fit(X_train,y_train)\n",
    "    y_pred=knn.predict(X_test)\n",
    "    acc_score=accuracy_score(y_test, y_pred).tolist()\n",
    "    neighbors_List.append(acc_score)\n",
    "    if acc_score>maximum_neighbors_value:\n",
    "        maximum_neighbors_value=acc_score\n",
    "for i in range(0,len(neighbors_List)):\n",
    "    if maximum_neighbors_value==neighbors_List[i]:\n",
    "        optimum_k=i\n",
    "print(\"Optimum k:\",optimum_k)"
   ]
  },
  {
   "cell_type": "code",
   "execution_count": 7,
   "metadata": {},
   "outputs": [
    {
     "name": "stdout",
     "output_type": "stream",
     "text": [
      "[0.75324675 0.67532468 0.68831169 0.62337662 0.7012987  0.75324675\n",
      " 0.74025974 0.79220779 0.77631579 0.75      ]\n",
      "0.7253588516746412\n"
     ]
    }
   ],
   "source": [
    "#KNN Cross Validation Score\n",
    "knn=KNeighborsClassifier(n_neighbors=optimum_k+1)\n",
    "scores=cross_val_score(knn,X,y,cv=10,scoring=\"accuracy\")\n",
    "print(scores)\n",
    "print(scores.mean())"
   ]
  },
  {
   "cell_type": "code",
   "execution_count": 8,
   "metadata": {},
   "outputs": [
    {
     "name": "stdout",
     "output_type": "stream",
     "text": [
      "[0.74025974 0.75324675 0.79220779 0.72727273 0.74025974 0.74025974\n",
      " 0.81818182 0.79220779 0.73684211 0.82894737]\n",
      "0.7669685577580314\n"
     ]
    }
   ],
   "source": [
    "#Logistic Regression Cross Validation Score\n",
    "lr=LogisticRegression(solver='liblinear')\n",
    "scores=cross_val_score(lr,X,y,cv=10,scoring=\"accuracy\")\n",
    "print(scores)\n",
    "print(scores.mean())"
   ]
  },
  {
   "cell_type": "code",
   "execution_count": 9,
   "metadata": {},
   "outputs": [
    {
     "name": "stdout",
     "output_type": "stream",
     "text": [
      "[0.74025974 0.74025974 0.74025974 0.71428571 0.72727273 0.80519481\n",
      " 0.75324675 0.80519481 0.76315789 0.78947368]\n",
      "0.7578605604921396\n"
     ]
    }
   ],
   "source": [
    "#SVM Cross Validation Score\n",
    "svm=SVC(kernel='rbf')\n",
    "scores=cross_val_score(svm,X,y,cv=10,scoring=\"accuracy\")\n",
    "print(scores)\n",
    "print(scores.mean())"
   ]
  },
  {
   "cell_type": "markdown",
   "metadata": {},
   "source": [
    "As seen above, Logistic Regression is the most appropriate model for the Diabetes Dataset."
   ]
  },
  {
   "cell_type": "code",
   "execution_count": null,
   "metadata": {},
   "outputs": [],
   "source": []
  }
 ],
 "metadata": {
  "kernelspec": {
   "display_name": "Python 3",
   "language": "python",
   "name": "python3"
  },
  "language_info": {
   "codemirror_mode": {
    "name": "ipython",
    "version": 3
   },
   "file_extension": ".py",
   "mimetype": "text/x-python",
   "name": "python",
   "nbconvert_exporter": "python",
   "pygments_lexer": "ipython3",
   "version": "3.8.5"
  }
 },
 "nbformat": 4,
 "nbformat_minor": 4
}
